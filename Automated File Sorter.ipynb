{
 "cells": [
  {
   "cell_type": "markdown",
   "id": "e68c12dd-0404-45ee-a7b2-e852d2fc1c49",
   "metadata": {},
   "source": [
    "# Automated File Sorter in File Explorer"
   ]
  },
  {
   "cell_type": "code",
   "execution_count": null,
   "id": "4b8d8768-fcf8-449c-ba41-b57bfa62b29b",
   "metadata": {},
   "outputs": [],
   "source": []
  },
  {
   "cell_type": "code",
   "execution_count": 1,
   "id": "4fb6fec1-90e2-46bf-a88a-2b8f8cbf0f21",
   "metadata": {},
   "outputs": [],
   "source": [
    "import os,shutil\n"
   ]
  },
  {
   "cell_type": "code",
   "execution_count": 24,
   "id": "3784e812-b91c-431f-9c59-5e65e09c08ec",
   "metadata": {},
   "outputs": [],
   "source": [
    "path= r\"C:/Users/zAts/Desktop/python tutorial/\"\n"
   ]
  },
  {
   "cell_type": "code",
   "execution_count": 30,
   "id": "9b6fbf83-073a-43f5-9b3b-cafeb305ea36",
   "metadata": {},
   "outputs": [],
   "source": [
    "file_name= os.listdir(path)"
   ]
  },
  {
   "cell_type": "code",
   "execution_count": 31,
   "id": "3c7810b4-036f-4188-acd6-d9325bdb50a8",
   "metadata": {},
   "outputs": [],
   "source": [
    "import os\n",
    "\n",
    "folder_names = ['csv files', 'image files', 'text files']\n",
    "path = r\"C:/Users/zAts/Desktop/python tutorial/\"\n",
    "\n",
    "for folder in folder_names:\n",
    "    os.makedirs(os.path.join(path, folder), exist_ok=True)\n",
    "\n"
   ]
  },
  {
   "cell_type": "code",
   "execution_count": 35,
   "id": "996d19bf-ce07-459e-a0d1-55416d80d551",
   "metadata": {},
   "outputs": [],
   "source": [
    "import os\n",
    "import shutil\n",
    "\n",
    "path = r\"C:/Users/zAts/Desktop/python tutorial/\"\n",
    "file_name = os.listdir(path)\n",
    "\n",
    "for file in file_name:\n",
    "    src = os.path.join(path, file)\n",
    "\n",
    "    # تأكد أنه ملف وليس مجلد\n",
    "    if os.path.isfile(src):\n",
    "\n",
    "        # CSV files\n",
    "        if file.endswith(\".csv\"):\n",
    "            dest_folder = os.path.join(path, \"csv files\")\n",
    "\n",
    "        # Image files (يمكنك إضافة أو حذف الامتدادات)\n",
    "        elif file.lower().endswith((\".jpg\", \".jpeg\", \".png\", \".gif\", \".bmp\", \".tiff\" , \".avif\")):\n",
    "            dest_folder = os.path.join(path, \"image files\")\n",
    "\n",
    "        # Text files\n",
    "        elif file.endswith(\".txt\"):\n",
    "            dest_folder = os.path.join(path, \"text files\")\n",
    "\n",
    "        # أي نوع غير معروف → تخطي\n",
    "        else:\n",
    "            continue\n",
    "\n",
    "        # إنشاء المجلد إذا لم يكن موجود\n",
    "        os.makedirs(dest_folder, exist_ok=True)\n",
    "\n",
    "        # تحريك الملف إلى المجلد المناسب\n",
    "        dest = os.path.join(dest_folder, file)\n",
    "        shutil.move(src, dest)\n"
   ]
  },
  {
   "cell_type": "code",
   "execution_count": null,
   "id": "037e9245-cdba-4bd6-81e3-2d37b5259d16",
   "metadata": {},
   "outputs": [],
   "source": []
  }
 ],
 "metadata": {
  "kernelspec": {
   "display_name": "Python [conda env:base] *",
   "language": "python",
   "name": "conda-base-py"
  },
  "language_info": {
   "codemirror_mode": {
    "name": "ipython",
    "version": 3
   },
   "file_extension": ".py",
   "mimetype": "text/x-python",
   "name": "python",
   "nbconvert_exporter": "python",
   "pygments_lexer": "ipython3",
   "version": "3.13.5"
  }
 },
 "nbformat": 4,
 "nbformat_minor": 5
}
